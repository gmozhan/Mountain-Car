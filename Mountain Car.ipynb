{
 "cells": [
  {
   "cell_type": "code",
   "execution_count": 1,
   "metadata": {},
   "outputs": [],
   "source": [
    "import gym\n",
    "import numpy as np\n",
    "import matplotlib.pyplot as plt"
   ]
  },
  {
   "cell_type": "markdown",
   "metadata": {},
   "source": [
    "# Q1"
   ]
  },
  {
   "cell_type": "markdown",
   "metadata": {},
   "source": [
    "A)\n",
    "\n",
    "we set goal state reward to +1 and the value of every non-goal state is set to zero.\n",
    "\n",
    "the value of s_n is equal to :\n",
    "\n",
    "\n",
    "\\begin{array}{l}\n",
    "V({s_{n-1}}) = R({s_{n-1}}) + \\gamma .(goal\\_value)\\\\\n",
    "\\end{array}\n",
    "\n",
    "and the value of goal state equals to :\n",
    "\n",
    "(agent will stay in goal state after reaching it, so the next state will be the goal state again)\n",
    "\n",
    "\\begin{array}{l}\n",
    "V(G) = R(G) + \\gamma .(V(G))\\\\\n",
    "V(G) - \\gamma .(V(G)) = R(G)\\\\\n",
    "(1 - \\gamma )V(G) = R(G)\\\\\n",
    "V(G) = \\frac{{R(G)}}{{1 - \\gamma }} = \\frac{1}{{1 - \\gamma }}\n",
    "\\end{array}\n",
    "\n",
    "bacause the optimal action at each state is a_0(right) so the optimal value for s_n-1  is:\n",
    "\n",
    "\\begin{array}{l}\n",
    "V({s_{n-1}}) = R({s_{n-1}}) + \\gamma .V(G)\\\\\n",
    "V({s_{n-1}}\\,) = 0 + \\gamma .\\frac{1}{{1 - \\gamma }} = \\frac{\\gamma }{{1 - \\gamma }}\n",
    "\\end{array}\n",
    "\n",
    "so for the rest of the states we have :\n",
    "\n",
    "\\begin{array}{l}\n",
    "V({s_{n - 2}}) = \\frac{{{\\gamma ^2}}}{{1 - \\gamma }}\\\\\n",
    "V({s_{n - 3}}) = \\frac{{{\\gamma ^3}}}{{1 - \\gamma }}\\\\\n",
    ".\\\\\n",
    ".\\\\\n",
    ".\\\\\n",
    "V({s_{1}}) = \\frac{{{\\gamma ^{n-1}}}}{{1 - \\gamma }}\n",
    "\\end{array}\n"
   ]
  },
  {
   "cell_type": "markdown",
   "metadata": {},
   "source": [
    "B)\n",
    "\n",
    "Discount factors are important in inﬁnite-horizon MDPs, in which they determine how the reward\n",
    "is counted.\n",
    "\n",
    "The discount factor affects how much weight it gives to future rewards in the value function.\n",
    "A discount factor gamma=0 will result in state/action values representing the immediate reward(explore), while a higher discount factor gamma=0.9 will result in the values representing the cumulative discounted future reward an agent expects to receive (behaving under a given policy or exploit).The convergence is influenced by the discount factor depending on whether it’s a continual task or an episodic one. In a continual one,  must be between [0,1), whereas an episodic one it can be between [0,1].If gamma > 0, value of gamma does not change the ordering of states, so the optimal policy is the same; however, the value of the value function depends on discount factor. If gamma = 0 then, policy ∀s : π(s) = a_0 is still an optimal policy; however, this is not the only optimal policy. \n",
    "\n",
    "therefore, the choice of discout factor will affect the policy that results.\n"
   ]
  },
  {
   "cell_type": "markdown",
   "metadata": {},
   "source": [
    "C)\n",
    "\n",
    "it has no effect on the optimal policy.Adding a constant c to all the rewards only changes the value of each state for any policy:\n",
    "\n",
    "\\begin{array}{l}\n",
    "{V_{new}}(G) = R(G) + c + \\gamma {V_{new}}(G)\\\\\n",
    "(1 - \\gamma ){V_{new}}(G) = 1 + c\\\\\n",
    "{V_{new}}(G) = \\frac{{1 + c}}{{1 - \\gamma }} = \\frac{1}{{1 - \\gamma }} + \\frac{c}{{1 - \\gamma }} = {V_{old}}(G) + \\frac{c}{{1 - \\gamma }}\n",
    "\\end{array}\n",
    "\n",
    "so for every other states we have :\n",
    "\n",
    "\\begin{array}{l}\n",
    "{V_{new}}({s_t}) = {V_{old}}({s_t}) + \\frac{c}{{1 - \\gamma }}\\\\\n",
    "\\end{array}\n"
   ]
  },
  {
   "cell_type": "markdown",
   "metadata": {},
   "source": [
    "D)\n",
    "\n",
    "for goal state we have:\n",
    "\n",
    "\\begin{array}{l}\n",
    "{V_{new}}(G) = \\beta (\\alpha  + R(G)) + \\gamma {V_{new}}(G)\\\\\n",
    "(1 - \\gamma ){V_{new}}(G) = \\beta (\\alpha  + 1)\\\\\n",
    "{V_{new}}(G) = \\frac{{\\beta (\\alpha  + 1)}}{{1 - \\gamma }} = \\frac{{\\beta \\alpha }}{{1 - \\gamma }} + \\frac{{\\beta .1}}{{1 - \\gamma }} = \\beta .{V_{old}}(G) + \\frac{{\\beta \\alpha }}{{1 - \\gamma }}\n",
    "\\end{array}\n",
    "\n",
    "and for other states :\n",
    "\n",
    "\\begin{array}{l}\n",
    "{V_{new}}({s_t}) = \\beta .{V_{old}}({s_t}) + \\frac{{\\beta \\alpha }}{{1 - \\gamma }}\\\\\n",
    "\\end{array}\n",
    "\n",
    "So if \n",
    "\\begin{array}{l} \n",
    "\\beta  > 0\n",
    "\\end{array}\n",
    "\n",
    "then the optimal policy will not change, and the value of the new optimal policy is a linear mapping of the previous optimal value function.\n",
    "\n",
    "if \n",
    "\\begin{array}{l}\n",
    "\\beta  = 0\n",
    "\\end{array}\n",
    "then all states have reward 0 and any policy is the optimal policy, and the optimal value of all states is 0.\n",
    "\n",
    "if \n",
    "\n",
    "\\begin{array}{l}\n",
    "\\beta  < 0\n",
    "\\end{array}\n",
    "\n",
    "any policy that never reaches to the state G is the optimal policy, because in this case goal state has least value than other states.\n"
   ]
  },
  {
   "cell_type": "markdown",
   "metadata": {},
   "source": [
    "# implementation"
   ]
  },
  {
   "cell_type": "code",
   "execution_count": 2,
   "metadata": {},
   "outputs": [
    {
     "data": {
      "text/plain": [
       "array([-0.50647686,  0.        ])"
      ]
     },
     "execution_count": 2,
     "metadata": {},
     "output_type": "execute_result"
    }
   ],
   "source": [
    "# making visual environment of mountain car \n",
    "# mountain car has a fully deterministic environment\n",
    "env = gym.make('MountainCar-v0')\n",
    "# initialize the position and velocity of the agent(car)\n",
    "# first element = position\n",
    "# second element = velocity\n",
    "# position is in range (-1.2,0.6)\n",
    "# velocity is in range (-0.07,0.07)\n",
    "env.reset()"
   ]
  },
  {
   "cell_type": "markdown",
   "metadata": {},
   "source": [
    "## Q learning formula\n",
    "\n",
    "update Q-value of every pair of state and action in deteministic environment with :\n",
    "\n",
    "\\begin{array}{l}\n",
    "{Q^{new}}({s_t},{a_t}) \\leftarrow {r_t} + \\gamma .\\mathop {\\max }\\limits_a Q({s_{t + 1}},a)\\\\\n",
    "\\end{array}\n",
    "\n",
    "and in non-deterministic environment with :\n",
    "\n",
    "\\begin{array}{l}\n",
    "{Q^{new}}({s_t},{a_t}) \\leftarrow (1 - \\alpha )Q({s_t},{a_t}) + \\alpha .({r_t} + \\gamma .\\mathop {\\max }\\limits_a Q({s_{t + 1}},a))\\\\\n",
    "\\end{array}\n",
    "\n",
    "\n",
    "where alpha is the learning rate."
   ]
  },
  {
   "cell_type": "code",
   "execution_count": 3,
   "metadata": {},
   "outputs": [],
   "source": [
    "# Determine size of discretized state space\n",
    "#devide position values into 19 discrete value (-1.2, -1.1, ..., 0.6) [19 values]\n",
    "#decvide velocity values into 15 discrete value (-0.07, -0.06, ..., 0.07) [15 value]\n",
    "discrete_space= [19, 15]\n",
    "# calculate steps in discretized space \n",
    "discrete_space_step = (env.observation_space.high - env.observation_space.low)/discrete_space"
   ]
  },
  {
   "cell_type": "code",
   "execution_count": 4,
   "metadata": {},
   "outputs": [],
   "source": [
    "#initialize constants\n",
    "discount_factor = 0.9\n",
    "episodes = 3000"
   ]
  },
  {
   "cell_type": "code",
   "execution_count": 5,
   "metadata": {},
   "outputs": [],
   "source": [
    "# Initialize Q table with zero values\n",
    "# rows and columns presenting the discretized position and velocity and corresponding value to \n",
    "# each position and velocity represent a vector with 3 values which are Q-values for 3 actions\n",
    "# action space = {0: move left , 1: stay , 2: move right}\n",
    "# we also can initialize Q-values with random numbers of uniform distribution, like :\n",
    "# q_table = np.random.uniform(low = -1, high = 1, size=(discrete_space+[env.action_space.n]))\n",
    "\n",
    "q_table = np.zeros((discrete_space+[env.action_space.n]))"
   ]
  },
  {
   "cell_type": "code",
   "execution_count": 6,
   "metadata": {},
   "outputs": [],
   "source": [
    "# turn every pair of state ( (position , velocity) ) into a discretized pair of state in shape of tuple\n",
    "def get_discrete_state(state):\n",
    "    discrete_state = (state - env.observation_space.low)/discrete_space_step\n",
    "    return tuple(discrete_state.astype(np.int))"
   ]
  },
  {
   "cell_type": "code",
   "execution_count": 7,
   "metadata": {},
   "outputs": [],
   "source": [
    "# all the rewards collected in every episode\n",
    "# car recieve a reward equal to -1 for every action\n",
    "# car has 200 points at first of each episode , \n",
    "# so if it doesn't reach the goal before this 200 points finishes, episode will be ended.\n",
    "# (200 actions without reaching goal)\n",
    "episode_rewards = []"
   ]
  },
  {
   "cell_type": "code",
   "execution_count": 8,
   "metadata": {},
   "outputs": [],
   "source": [
    "for episode in range(episodes):\n",
    "    # car has no reward at the start of an episode\n",
    "    episode_reward = 0\n",
    "    # start \n",
    "    # get discreted values for starting state\n",
    "    discrete_state = get_discrete_state(env.reset())\n",
    "    # check whether agent reached the goal or not\n",
    "    # done = True ---> agent hasn't reached the goal yet\n",
    "    # done = False ---> agent reached the goal\n",
    "    done = False\n",
    "    # do the rest till agent hasn't reached the goal\n",
    "    while not done:\n",
    "        # get action from Q table\n",
    "        # choose maximum value action\n",
    "        action = np.argmax(q_table[discrete_state])\n",
    "        # take an action \n",
    "        new_state, reward, done, info = env.step(action)\n",
    "        # take the rewards \n",
    "        episode_reward += reward\n",
    "        # discretized new state \n",
    "        new_discrete_state = get_discrete_state(new_state)\n",
    "        # we need to run many thousands of iterations, and rendering the environment will cause it to take far longer.\n",
    "        # so we can check out the environment every 100 steps\n",
    "        if episode % 100 == 0:\n",
    "            # renders one frame of the environment (helpful in visualizing the environment)\n",
    "            env.render()\n",
    "            \n",
    "        # update Q values\n",
    "        if not done:\n",
    "            max_q = np.max(q_table[new_discrete_state])\n",
    "            #current_q = q_table[discrete_state + (action,)]\n",
    "            #new_q = (1 - learning_rate) * current_q + learning_rate * (reward + discount_factor * max_future_q)\n",
    "            new_q = reward + discount_factor * max_q\n",
    "            q_table[discrete_state + (action,)] = new_q\n",
    "        \n",
    "        # if agent reaches the goal\n",
    "        elif new_state[0] >= env.goal_position:\n",
    "            # give agent the maximum reward\n",
    "            q_table[discrete_state + (action,)] = 1\n",
    "        # go to next step\n",
    "        discrete_state = new_discrete_state\n",
    "        \n",
    "    episode_rewards.append(episode_reward)\n",
    "        \n",
    "\n",
    "env.close()"
   ]
  },
  {
   "cell_type": "code",
   "execution_count": 9,
   "metadata": {},
   "outputs": [
    {
     "data": {
      "image/png": "[encoded data removed]",
      "text/plain": [
       "<Figure size 432x288 with 1 Axes>"
      ]
     },
     "metadata": {
      "needs_background": "light"
     },
     "output_type": "display_data"
    }
   ],
   "source": [
    "# present rewards in every episode\n",
    "plt.plot(range(episodes),episode_rewards)\n",
    "plt.xlabel('episodes')\n",
    "plt.ylabel('rewards')\n",
    "plt.show()"
   ]
  },
  {
   "cell_type": "markdown",
   "metadata": {},
   "source": [
    "after updating Q-table and after reaching goal, to let agent explore the environment and learn how to reach the goal in different ways, we define a constant (epsilon) to let agent choose random actions in every step instead of using on policy."
   ]
  },
  {
   "cell_type": "code",
   "execution_count": 10,
   "metadata": {},
   "outputs": [
    {
     "data": {
      "text/plain": [
       "array([-0.50079553,  0.        ])"
      ]
     },
     "execution_count": 10,
     "metadata": {},
     "output_type": "execute_result"
    }
   ],
   "source": [
    "# use epsilon for exploring instead of exploiting after reaching goal for once  \n",
    "epsilon=0.1\n",
    "episode_rewards2 = []\n",
    "env.reset()"
   ]
  },
  {
   "cell_type": "code",
   "execution_count": 11,
   "metadata": {},
   "outputs": [],
   "source": [
    "# repeat the last algorithm\n",
    "for episode in range(episodes):\n",
    "    episode_reward = 0\n",
    "    discrete_state = get_discrete_state(env.reset())\n",
    "    done = False\n",
    "    while not done:\n",
    "        if np.random.uniform(0,1) < epsilon:\n",
    "            # explore action space\n",
    "            # choose a random action\n",
    "            action=env.action_space.sample()\n",
    "        else:\n",
    "            action = np.argmax(q_table[discrete_state])\n",
    "        new_state, reward, done, info = env.step(action) \n",
    "        episode_reward += reward \n",
    "        new_discrete_state = get_discrete_state(new_state)\n",
    "        if episode % 100 == 0:\n",
    "            env.render()\n",
    "            \n",
    "        if not done:\n",
    "            max_q = np.max(q_table[new_discrete_state])\n",
    "            #current_q = q_table[discrete_state + (action,)]\n",
    "            #new_q = (1 - learning_rate) * current_q + learning_rate * (reward + discount_factor * max_future_q)\n",
    "            new_q = reward + discount_factor * max_q\n",
    "            q_table[discrete_state + (action,)] = new_q\n",
    "        elif new_state[0] >= env.goal_position:\n",
    "            q_table[discrete_state + (action,)] = 1\n",
    "        discrete_state = new_discrete_state\n",
    "        \n",
    "    episode_rewards2.append(episode_reward)\n",
    "        \n",
    "\n",
    "env.close()"
   ]
  },
  {
   "cell_type": "code",
   "execution_count": 12,
   "metadata": {},
   "outputs": [
    {
     "data": {
      "image/png": "[encoded data removed]",
      "text/plain": [
       "<Figure size 432x288 with 1 Axes>"
      ]
     },
     "metadata": {
      "needs_background": "light"
     },
     "output_type": "display_data"
    }
   ],
   "source": [
    "plt.plot(range(episodes),episode_rewards2)\n",
    "plt.xlabel('episodes')\n",
    "plt.ylabel('rewards')\n",
    "plt.show()"
   ]
  },
  {
   "cell_type": "markdown",
   "metadata": {},
   "source": [
    "Additionally we can initialize Q-table with random numbers of uniform distribution (Create a custom reward to speed up convergence of the Q-learning)"
   ]
  },
  {
   "cell_type": "code",
   "execution_count": 13,
   "metadata": {},
   "outputs": [],
   "source": [
    "q_table2 = np.random.uniform(low = -1, high = 1, size=(discrete_space+[env.action_space.n]))"
   ]
  },
  {
   "cell_type": "code",
   "execution_count": 14,
   "metadata": {},
   "outputs": [],
   "source": [
    "episode_rewards3 = []\n",
    "env.reset()\n",
    "learning_rate=0.1\n",
    "# learning rate is the extent to which our Q-values are being updated in every iteration"
   ]
  },
  {
   "cell_type": "code",
   "execution_count": 15,
   "metadata": {},
   "outputs": [],
   "source": [
    "# repeat the last algorithm\n",
    "for episode in range(episodes):\n",
    "    episode_reward = 0\n",
    "    discrete_state = get_discrete_state(env.reset())\n",
    "    done = False\n",
    "    while not done:\n",
    "        if np.random.uniform(0,1) < epsilon:\n",
    "            action=env.action_space.sample()\n",
    "        else:\n",
    "            action = np.argmax(q_table2[discrete_state])\n",
    "        new_state, reward, done, info = env.step(action) \n",
    "        episode_reward += reward \n",
    "        new_discrete_state = get_discrete_state(new_state)\n",
    "        if episode % 100 == 0:\n",
    "            env.render()\n",
    "            \n",
    "        if not done:\n",
    "            max_q = np.max(q_table2[new_discrete_state])\n",
    "            current_q = q_table[discrete_state + (action,)]\n",
    "            new_q = (1 - learning_rate) * current_q + learning_rate * (reward + discount_factor * max_q)\n",
    "            #new_q = reward + discount_factor * max_q\n",
    "            q_table2[discrete_state + (action,)] = new_q\n",
    "        elif new_state[0] >= env.goal_position:\n",
    "            q_table2[discrete_state + (action,)] = 1\n",
    "        discrete_state = new_discrete_state\n",
    "        \n",
    "    episode_rewards3.append(episode_reward)\n",
    "        \n",
    "\n",
    "env.close()"
   ]
  },
  {
   "cell_type": "code",
   "execution_count": 16,
   "metadata": {},
   "outputs": [
    {
     "data": {
      "image/png": "[encoded data removed]",
      "text/plain": [
       "<Figure size 432x288 with 1 Axes>"
      ]
     },
     "metadata": {
      "needs_background": "light"
     },
     "output_type": "display_data"
    }
   ],
   "source": [
    "plt.plot(range(episodes),episode_rewards3)\n",
    "plt.xlabel('episodes')\n",
    "plt.ylabel('rewards')\n",
    "plt.show()"
   ]
  },
  {
   "cell_type": "code",
   "execution_count": null,
   "metadata": {},
   "outputs": [],
   "source": []
  }
 ],
 "metadata": {
  "kernelspec": {
   "display_name": "Python 3",
   "language": "python",
   "name": "python3"
  },
  "language_info": {
   "codemirror_mode": {
    "name": "ipython",
    "version": 3
   },
   "file_extension": ".py",
   "mimetype": "text/x-python",
   "name": "python",
   "nbconvert_exporter": "python",
   "pygments_lexer": "ipython3",
   "version": "3.7.4"
  }
 },
 "nbformat": 4,
 "nbformat_minor": 2
}
